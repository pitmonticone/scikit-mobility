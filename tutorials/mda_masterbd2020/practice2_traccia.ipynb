{
 "cells": [
  {
   "cell_type": "markdown",
   "metadata": {},
   "source": [
    "# Practice 2: Taxis in Rome"
   ]
  },
  {
   "cell_type": "markdown",
   "metadata": {},
   "source": [
    "## Exercise 1: Loading and Plotting"
   ]
  },
  {
   "cell_type": "markdown",
   "metadata": {},
   "source": [
    "### 1.A Download the <a href=\"https://crawdad.org/roma/taxi/20140717/taxicabs/\">Rome taxi dataset</a> and put it into the `data` folder. Load the first 500,000 points into a `TrajDataFrame`.\n",
    "Note: coordinates are not in the expected format, so some data processing is needed."
   ]
  },
  {
   "cell_type": "markdown",
   "metadata": {},
   "source": [
    "### 1.B Get a square tessellation of Rome. Plot on a map the tessellation and all the trajectories.\n",
    "Suggestion: to get the tessellation use `skmob.tilers.tiler.get`."
   ]
  },
  {
   "cell_type": "markdown",
   "metadata": {},
   "source": [
    "### 1.C Select all points that fall within the spatial tessellation and plot the tesssellation and the selected trajectories.\n",
    "Suggestion: use the `TrajDataFrame.mapping` function."
   ]
  },
  {
   "cell_type": "markdown",
   "metadata": {},
   "source": [
    "### 1.D Plot on a map: 1) the trajectories (mapped trajs), 2) the heatmap of all points in the original (non-mapped trajs) `TrajDataFrame`."
   ]
  },
  {
   "cell_type": "markdown",
   "metadata": {},
   "source": [
    "### 1.E Plot the cloropleth map of all mapped trajectories with respect to the spatial tessellation."
   ]
  },
  {
   "cell_type": "markdown",
   "metadata": {},
   "source": [
    "### 1.F Compare the trajectories of drivers `187` and `297`, and compute their most likely home location."
   ]
  },
  {
   "cell_type": "markdown",
   "metadata": {},
   "source": [
    "### 1.G Compare the flows of the two drivers."
   ]
  },
  {
   "cell_type": "markdown",
   "metadata": {},
   "source": [
    "### 1.H Plot the flows considering all trajectories and a spatial tessellation of 10km."
   ]
  },
  {
   "cell_type": "markdown",
   "metadata": {},
   "source": [
    "## Exercise 2"
   ]
  },
  {
   "cell_type": "markdown",
   "metadata": {},
   "source": [
    "### 2.A Filter (using default values) and compress (using `spatial_radius_km=0.5`) the trajectories of all drivers. \n",
    "Print the number of points filtered out and the differences between the size of the filtered trajectories and the size of the compressed trajectories."
   ]
  },
  {
   "cell_type": "markdown",
   "metadata": {},
   "source": [
    "### 2.B Visualize on a map the compressed trajectory (in red) of user `187` together with their filtered trajectory (in black)."
   ]
  },
  {
   "cell_type": "markdown",
   "metadata": {},
   "source": [
    "### 2.C Detect the stops on the filtered-compressed trajectories, for all drivers (use `spatial_radius_km=0.05`, and `minutes_for_a_stop=10`). Plot the trajectories and the stops for driver `187`."
   ]
  },
  {
   "cell_type": "markdown",
   "metadata": {},
   "source": [
    "### 2.D Use the stops detected to split each driver's filtered-compressed trajectory into subtrajectories (trips) and create a new `TrajDataFrame`, in which the column `tid` identifies a driver's trip."
   ]
  },
  {
   "cell_type": "markdown",
   "metadata": {},
   "source": [
    "### 2.E Count the number of trips per driver"
   ]
  },
  {
   "cell_type": "markdown",
   "metadata": {},
   "source": [
    "### 2.F Compare two first two trips of the same driver (`187`) in a `DualMap`"
   ]
  },
  {
   "cell_type": "code",
   "execution_count": null,
   "metadata": {},
   "outputs": [],
   "source": []
  }
 ],
 "metadata": {
  "kernelspec": {
   "display_name": "Python [conda env:skmobenv]",
   "language": "python",
   "name": "skmobenv"
  },
  "language_info": {
   "codemirror_mode": {
    "name": "ipython",
    "version": 3
   },
   "file_extension": ".py",
   "mimetype": "text/x-python",
   "name": "python",
   "nbconvert_exporter": "python",
   "pygments_lexer": "ipython3",
   "version": "3.7.6"
  }
 },
 "nbformat": 4,
 "nbformat_minor": 4
}
