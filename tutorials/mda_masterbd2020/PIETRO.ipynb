{
 "cells": [
  {
   "cell_type": "markdown",
   "metadata": {},
   "source": [
    "# Mobility Data Science "
   ]
  },
  {
   "cell_type": "markdown",
   "metadata": {},
   "source": [
    "## Modules"
   ]
  },
  {
   "cell_type": "code",
   "execution_count": null,
   "metadata": {},
   "outputs": [],
   "source": [
    "# Data Wrangling\n",
    "import pandas as pd\n",
    "\n",
    "# Geospatial Data Wrangling \n",
    "import geopandas as gpd\n",
    "from shapely.geometry import Point, LineString\n",
    "\n",
    "# Data Visualization\n",
    "import matplotlib.pyplot as plt \n",
    "import matplotlib.ticker as ticker\n",
    "%pylab inline\n",
    "\n",
    "# Mobility Data Analysis \n",
    "import skmob\n",
    "\n",
    "# Basic Utilities \n",
    "import warnings\n",
    "warnings.filterwarnings('ignore')"
   ]
  },
  {
   "cell_type": "markdown",
   "metadata": {},
   "source": [
    "### `scikit-mobility`"
   ]
  },
  {
   "cell_type": "markdown",
   "metadata": {
    "slideshow": {
     "slide_type": "slide"
    }
   },
   "source": [
    "A module to analyze mobility data, suited for working with:\n",
    "\n",
    "- **trajectories** composed by lat/long points (e.g. GPS data)\n",
    "- **fluxes** of movements between places (e.g. OD matrix)"
   ]
  },
  {
   "cell_type": "markdown",
   "metadata": {},
   "source": [
    "## Data "
   ]
  },
  {
   "cell_type": "markdown",
   "metadata": {
    "slideshow": {
     "slide_type": "slide"
    }
   },
   "source": [
    "### `TrajDataFrame`\n",
    "\n",
    "Each row describes a trajectory's point and contains the following columns:\n",
    "\n",
    "- `lat` - latitude of the point\n",
    "- `lng` - longitude of the point\n",
    "- `datetime` - date and time of the point"
   ]
  },
  {
   "cell_type": "markdown",
   "metadata": {
    "slideshow": {
     "slide_type": "subslide"
    }
   },
   "source": [
    "For multi-user data sets, there are two *optional* columns:\n",
    "\n",
    "- `uid` - user's identifier to which the trajectory belongs to\n",
    "- `tid` - identifier for the trajectory"
   ]
  },
  {
   "cell_type": "markdown",
   "metadata": {
    "slideshow": {
     "slide_type": "subslide"
    }
   },
   "source": [
    "A `TrajDataFrame` can be created from:\n",
    "\n",
    "- a python list or *numpy* array\n",
    "- a python dictionary\n",
    "- a *pandas* `DataFrame`\n",
    "- a text file"
   ]
  },
  {
   "cell_type": "code",
   "execution_count": 10,
   "metadata": {},
   "outputs": [
    {
     "name": "stdout",
     "output_type": "stream",
     "text": [
      "<class 'skmob.core.trajectorydataframe.TrajDataFrame'>\n"
     ]
    },
    {
     "data": {
      "text/html": [
       "<div>\n",
       "<style scoped>\n",
       "    .dataframe tbody tr th:only-of-type {\n",
       "        vertical-align: middle;\n",
       "    }\n",
       "\n",
       "    .dataframe tbody tr th {\n",
       "        vertical-align: top;\n",
       "    }\n",
       "\n",
       "    .dataframe thead th {\n",
       "        text-align: right;\n",
       "    }\n",
       "</style>\n",
       "<table border=\"1\" class=\"dataframe\">\n",
       "  <thead>\n",
       "    <tr style=\"text-align: right;\">\n",
       "      <th></th>\n",
       "      <th>0</th>\n",
       "      <th>lat</th>\n",
       "      <th>lng</th>\n",
       "      <th>datetime</th>\n",
       "    </tr>\n",
       "  </thead>\n",
       "  <tbody>\n",
       "    <tr>\n",
       "      <th>0</th>\n",
       "      <td>1</td>\n",
       "      <td>39.984094</td>\n",
       "      <td>116.319236</td>\n",
       "      <td>2008-10-23 13:53:05</td>\n",
       "    </tr>\n",
       "    <tr>\n",
       "      <th>1</th>\n",
       "      <td>1</td>\n",
       "      <td>39.984198</td>\n",
       "      <td>116.319322</td>\n",
       "      <td>2008-10-23 13:53:06</td>\n",
       "    </tr>\n",
       "    <tr>\n",
       "      <th>2</th>\n",
       "      <td>1</td>\n",
       "      <td>39.984224</td>\n",
       "      <td>116.319402</td>\n",
       "      <td>2008-10-23 13:53:11</td>\n",
       "    </tr>\n",
       "    <tr>\n",
       "      <th>3</th>\n",
       "      <td>1</td>\n",
       "      <td>39.984211</td>\n",
       "      <td>116.319389</td>\n",
       "      <td>2008-10-23 13:53:16</td>\n",
       "    </tr>\n",
       "  </tbody>\n",
       "</table>\n",
       "</div>"
      ],
      "text/plain": [
       "   0        lat         lng            datetime\n",
       "0  1  39.984094  116.319236 2008-10-23 13:53:05\n",
       "1  1  39.984198  116.319322 2008-10-23 13:53:06\n",
       "2  1  39.984224  116.319402 2008-10-23 13:53:11\n",
       "3  1  39.984211  116.319389 2008-10-23 13:53:16"
      ]
     },
     "execution_count": 10,
     "metadata": {},
     "output_type": "execute_result"
    }
   ],
   "source": [
    "# From a list\n",
    "data_list = [[1, 39.984094, 116.319236, '2008-10-23 13:53:05'],\n",
    "             [1, 39.984198, 116.319322, '2008-10-23 13:53:06'],\n",
    "             [1, 39.984224, 116.319402, '2008-10-23 13:53:11'],\n",
    "             [1, 39.984211, 116.319389, '2008-10-23 13:53:16']]\n",
    "data_list\n",
    "\n",
    "# We must set the indexes of the mandatory columns using arguments latitude, longitude and datetime.\n",
    "tdf = skmob.TrajDataFrame(data_list, \n",
    "                          latitude=1, longitude=2, \n",
    "                          datetime=3)\n",
    "print(type(tdf))\n",
    "tdf"
   ]
  },
  {
   "cell_type": "code",
   "execution_count": 11,
   "metadata": {
    "slideshow": {
     "slide_type": "-"
    }
   },
   "outputs": [
    {
     "name": "stdout",
     "output_type": "stream",
     "text": [
      "<class 'pandas.core.frame.DataFrame'>\n"
     ]
    },
    {
     "data": {
      "text/html": [
       "<div>\n",
       "<style scoped>\n",
       "    .dataframe tbody tr th:only-of-type {\n",
       "        vertical-align: middle;\n",
       "    }\n",
       "\n",
       "    .dataframe tbody tr th {\n",
       "        vertical-align: top;\n",
       "    }\n",
       "\n",
       "    .dataframe thead th {\n",
       "        text-align: right;\n",
       "    }\n",
       "</style>\n",
       "<table border=\"1\" class=\"dataframe\">\n",
       "  <thead>\n",
       "    <tr style=\"text-align: right;\">\n",
       "      <th></th>\n",
       "      <th>user</th>\n",
       "      <th>latitude</th>\n",
       "      <th>lng</th>\n",
       "      <th>hour</th>\n",
       "    </tr>\n",
       "  </thead>\n",
       "  <tbody>\n",
       "    <tr>\n",
       "      <th>0</th>\n",
       "      <td>1</td>\n",
       "      <td>39.984094</td>\n",
       "      <td>116.319236</td>\n",
       "      <td>2008-10-23 13:53:05</td>\n",
       "    </tr>\n",
       "    <tr>\n",
       "      <th>1</th>\n",
       "      <td>1</td>\n",
       "      <td>39.984198</td>\n",
       "      <td>116.319322</td>\n",
       "      <td>2008-10-23 13:53:06</td>\n",
       "    </tr>\n",
       "    <tr>\n",
       "      <th>2</th>\n",
       "      <td>1</td>\n",
       "      <td>39.984224</td>\n",
       "      <td>116.319402</td>\n",
       "      <td>2008-10-23 13:53:11</td>\n",
       "    </tr>\n",
       "    <tr>\n",
       "      <th>3</th>\n",
       "      <td>1</td>\n",
       "      <td>39.984211</td>\n",
       "      <td>116.319389</td>\n",
       "      <td>2008-10-23 13:53:16</td>\n",
       "    </tr>\n",
       "  </tbody>\n",
       "</table>\n",
       "</div>"
      ],
      "text/plain": [
       "   user   latitude         lng                 hour\n",
       "0     1  39.984094  116.319236  2008-10-23 13:53:05\n",
       "1     1  39.984198  116.319322  2008-10-23 13:53:06\n",
       "2     1  39.984224  116.319402  2008-10-23 13:53:11\n",
       "3     1  39.984211  116.319389  2008-10-23 13:53:16"
      ]
     },
     "execution_count": 11,
     "metadata": {},
     "output_type": "execute_result"
    }
   ],
   "source": [
    "# From a DataFrame \n",
    "data_df = pd.DataFrame(data_list, \n",
    "                       columns=['user', 'latitude', 'lng', 'hour']) \n",
    "\n",
    "print(type(data_df)) # type of the structure\n",
    "data_df.head()       # head of the DataFrame"
   ]
  },
  {
   "cell_type": "markdown",
   "metadata": {
    "slideshow": {
     "slide_type": "subslide"
    }
   },
   "source": [
    "Note that: \n",
    "- name of columns in `data_df` don't match the names required\n",
    "- you must specify the names of the mandatory columns using arguments `latitude`, `longitude` and `datetime` "
   ]
  },
  {
   "cell_type": "code",
   "execution_count": 12,
   "metadata": {
    "slideshow": {
     "slide_type": "subslide"
    }
   },
   "outputs": [
    {
     "name": "stdout",
     "output_type": "stream",
     "text": [
      "<class 'skmob.core.trajectorydataframe.TrajDataFrame'>\n"
     ]
    },
    {
     "data": {
      "text/html": [
       "<div>\n",
       "<style scoped>\n",
       "    .dataframe tbody tr th:only-of-type {\n",
       "        vertical-align: middle;\n",
       "    }\n",
       "\n",
       "    .dataframe tbody tr th {\n",
       "        vertical-align: top;\n",
       "    }\n",
       "\n",
       "    .dataframe thead th {\n",
       "        text-align: right;\n",
       "    }\n",
       "</style>\n",
       "<table border=\"1\" class=\"dataframe\">\n",
       "  <thead>\n",
       "    <tr style=\"text-align: right;\">\n",
       "      <th></th>\n",
       "      <th>uid</th>\n",
       "      <th>lat</th>\n",
       "      <th>lng</th>\n",
       "      <th>datetime</th>\n",
       "    </tr>\n",
       "  </thead>\n",
       "  <tbody>\n",
       "    <tr>\n",
       "      <th>0</th>\n",
       "      <td>1</td>\n",
       "      <td>39.984094</td>\n",
       "      <td>116.319236</td>\n",
       "      <td>2008-10-23 13:53:05</td>\n",
       "    </tr>\n",
       "    <tr>\n",
       "      <th>1</th>\n",
       "      <td>1</td>\n",
       "      <td>39.984198</td>\n",
       "      <td>116.319322</td>\n",
       "      <td>2008-10-23 13:53:06</td>\n",
       "    </tr>\n",
       "    <tr>\n",
       "      <th>2</th>\n",
       "      <td>1</td>\n",
       "      <td>39.984224</td>\n",
       "      <td>116.319402</td>\n",
       "      <td>2008-10-23 13:53:11</td>\n",
       "    </tr>\n",
       "    <tr>\n",
       "      <th>3</th>\n",
       "      <td>1</td>\n",
       "      <td>39.984211</td>\n",
       "      <td>116.319389</td>\n",
       "      <td>2008-10-23 13:53:16</td>\n",
       "    </tr>\n",
       "  </tbody>\n",
       "</table>\n",
       "</div>"
      ],
      "text/plain": [
       "   uid        lat         lng            datetime\n",
       "0    1  39.984094  116.319236 2008-10-23 13:53:05\n",
       "1    1  39.984198  116.319322 2008-10-23 13:53:06\n",
       "2    1  39.984224  116.319402 2008-10-23 13:53:11\n",
       "3    1  39.984211  116.319389 2008-10-23 13:53:16"
      ]
     },
     "execution_count": 12,
     "metadata": {},
     "output_type": "execute_result"
    }
   ],
   "source": [
    "# Create a TrajDataFrame from a DataFrame\n",
    "tdf = skmob.TrajDataFrame(data_df, \n",
    "                          latitude='latitude', # name of columns in `data_df` don't match the names required\n",
    "                          datetime='hour',     # you must specify the names of the mandatory columns using arguments `latitude`, `longitude` and `datetime` \n",
    "                          user_id='user')\n",
    "\n",
    "print(type(tdf))\n",
    "tdf.head()"
   ]
  },
  {
   "cell_type": "code",
   "execution_count": null,
   "metadata": {},
   "outputs": [],
   "source": []
  },
  {
   "cell_type": "code",
   "execution_count": null,
   "metadata": {},
   "outputs": [],
   "source": []
  },
  {
   "cell_type": "code",
   "execution_count": null,
   "metadata": {},
   "outputs": [],
   "source": []
  },
  {
   "cell_type": "code",
   "execution_count": 31,
   "metadata": {},
   "outputs": [],
   "source": [
    "tessellation = gpd.GeoDataFrame.from_file( \"/Users/Pit/GitHub/DigitalEpidemiologyProject/Data/Shapefiles/EGM19_Italy/NUTS_3.shp\") # load a tessellation"
   ]
  },
  {
   "cell_type": "code",
   "execution_count": 32,
   "metadata": {},
   "outputs": [
    {
     "data": {
      "text/html": [
       "<div>\n",
       "<style scoped>\n",
       "    .dataframe tbody tr th:only-of-type {\n",
       "        vertical-align: middle;\n",
       "    }\n",
       "\n",
       "    .dataframe tbody tr th {\n",
       "        vertical-align: top;\n",
       "    }\n",
       "\n",
       "    .dataframe thead th {\n",
       "        text-align: right;\n",
       "    }\n",
       "</style>\n",
       "<table border=\"1\" class=\"dataframe\">\n",
       "  <thead>\n",
       "    <tr style=\"text-align: right;\">\n",
       "      <th></th>\n",
       "      <th>inspireId</th>\n",
       "      <th>beginLifes</th>\n",
       "      <th>ICC</th>\n",
       "      <th>NUTS_CODE</th>\n",
       "      <th>NUTS_LABEL</th>\n",
       "      <th>TAA</th>\n",
       "      <th>Shape_Leng</th>\n",
       "      <th>Shape_Area</th>\n",
       "      <th>geometry</th>\n",
       "    </tr>\n",
       "  </thead>\n",
       "  <tbody>\n",
       "    <tr>\n",
       "      <th>0</th>\n",
       "      <td>_EG.EGM.NUTS3:4ae95bfc-24fc-4d37-9359-5777084f...</td>\n",
       "      <td>2019-02-07</td>\n",
       "      <td>IT</td>\n",
       "      <td>ITI16</td>\n",
       "      <td>Livorno</td>\n",
       "      <td>2</td>\n",
       "      <td>0.127188</td>\n",
       "      <td>0.001205</td>\n",
       "      <td>POLYGON ((10.31323 42.35093, 10.31426 42.35072...</td>\n",
       "    </tr>\n",
       "    <tr>\n",
       "      <th>1</th>\n",
       "      <td>_EG.EGM.NUTS3:e0d27089-03c2-4c41-8ce1-daf8ee28...</td>\n",
       "      <td>2019-02-07</td>\n",
       "      <td>IT</td>\n",
       "      <td>ITG13</td>\n",
       "      <td>Messina</td>\n",
       "      <td>2</td>\n",
       "      <td>4.391351</td>\n",
       "      <td>0.320924</td>\n",
       "      <td>POLYGON ((15.54770 38.30078, 15.55342 38.29912...</td>\n",
       "    </tr>\n",
       "    <tr>\n",
       "      <th>2</th>\n",
       "      <td>_EG.EGM.NUTS3:38b58736-ee49-4357-a2c6-2812a7ec...</td>\n",
       "      <td>2019-02-07</td>\n",
       "      <td>IT</td>\n",
       "      <td>ITG19</td>\n",
       "      <td>Siracusa</td>\n",
       "      <td>2</td>\n",
       "      <td>3.764754</td>\n",
       "      <td>0.213670</td>\n",
       "      <td>POLYGON ((14.92275 37.41228, 14.94277 37.40493...</td>\n",
       "    </tr>\n",
       "    <tr>\n",
       "      <th>3</th>\n",
       "      <td>_EG.EGM.NUTS3:a2b24ea9-5686-436e-9444-8306b217...</td>\n",
       "      <td>2019-02-07</td>\n",
       "      <td>IT</td>\n",
       "      <td>ITG12</td>\n",
       "      <td>Palermo</td>\n",
       "      <td>2</td>\n",
       "      <td>0.099764</td>\n",
       "      <td>0.000523</td>\n",
       "      <td>POLYGON ((13.18325 37.63532, 13.15886 37.62598...</td>\n",
       "    </tr>\n",
       "    <tr>\n",
       "      <th>4</th>\n",
       "      <td>_EG.EGM.NUTS3:fc3f1bd2-1cf1-4b37-8318-c53cee09...</td>\n",
       "      <td>2019-02-07</td>\n",
       "      <td>IT</td>\n",
       "      <td>ITG14</td>\n",
       "      <td>Agrigento</td>\n",
       "      <td>2</td>\n",
       "      <td>4.631894</td>\n",
       "      <td>0.307148</td>\n",
       "      <td>POLYGON ((13.01888 37.74009, 13.01975 37.74233...</td>\n",
       "    </tr>\n",
       "    <tr>\n",
       "      <th>...</th>\n",
       "      <td>...</td>\n",
       "      <td>...</td>\n",
       "      <td>...</td>\n",
       "      <td>...</td>\n",
       "      <td>...</td>\n",
       "      <td>...</td>\n",
       "      <td>...</td>\n",
       "      <td>...</td>\n",
       "      <td>...</td>\n",
       "    </tr>\n",
       "    <tr>\n",
       "      <th>161</th>\n",
       "      <td>_EG.EGM.NUTS3:5a0a269f-ee37-41bf-b017-05b2c7e6...</td>\n",
       "      <td>2019-02-07</td>\n",
       "      <td>IT</td>\n",
       "      <td>ITH41</td>\n",
       "      <td>Pordenone</td>\n",
       "      <td>2</td>\n",
       "      <td>3.122070</td>\n",
       "      <td>0.264557</td>\n",
       "      <td>POLYGON ((12.50321 46.40480, 12.51954 46.39812...</td>\n",
       "    </tr>\n",
       "    <tr>\n",
       "      <th>162</th>\n",
       "      <td>_EG.EGM.NUTS3:4c861902-ae75-47db-8ac0-ec4e4a7e...</td>\n",
       "      <td>2019-02-07</td>\n",
       "      <td>IT</td>\n",
       "      <td>ITC14</td>\n",
       "      <td>Verbano-Cusio-Ossola</td>\n",
       "      <td>2</td>\n",
       "      <td>3.286720</td>\n",
       "      <td>0.263018</td>\n",
       "      <td>POLYGON ((8.44572 46.46372, 8.45001 46.46184, ...</td>\n",
       "    </tr>\n",
       "    <tr>\n",
       "      <th>163</th>\n",
       "      <td>_EG.EGM.NUTS3:9a6beda6-a32c-4fc7-93d9-ed4e261a...</td>\n",
       "      <td>2019-02-07</td>\n",
       "      <td>IT</td>\n",
       "      <td>ITH20</td>\n",
       "      <td>Trento</td>\n",
       "      <td>2</td>\n",
       "      <td>6.830553</td>\n",
       "      <td>0.720968</td>\n",
       "      <td>POLYGON ((11.82553 46.52180, 11.82476 46.51387...</td>\n",
       "    </tr>\n",
       "    <tr>\n",
       "      <th>164</th>\n",
       "      <td>_EG.EGM.NUTS3:6352ebe4-13cc-43ed-bbc4-112edbf5...</td>\n",
       "      <td>2019-02-07</td>\n",
       "      <td>IT</td>\n",
       "      <td>ITH33</td>\n",
       "      <td>Belluno</td>\n",
       "      <td>2</td>\n",
       "      <td>4.807178</td>\n",
       "      <td>0.428822</td>\n",
       "      <td>POLYGON ((12.47990 46.67725, 12.48127 46.67701...</td>\n",
       "    </tr>\n",
       "    <tr>\n",
       "      <th>165</th>\n",
       "      <td>_EG.EGM.NUTS3:9fc61b5a-5350-472f-8b47-319db34e...</td>\n",
       "      <td>2019-02-07</td>\n",
       "      <td>IT</td>\n",
       "      <td>ITH10</td>\n",
       "      <td>Bolzano-Bozen</td>\n",
       "      <td>2</td>\n",
       "      <td>7.073942</td>\n",
       "      <td>0.869845</td>\n",
       "      <td>POLYGON ((12.19148 47.09050, 12.19667 47.08845...</td>\n",
       "    </tr>\n",
       "  </tbody>\n",
       "</table>\n",
       "<p>166 rows × 9 columns</p>\n",
       "</div>"
      ],
      "text/plain": [
       "                                             inspireId  beginLifes ICC  \\\n",
       "0    _EG.EGM.NUTS3:4ae95bfc-24fc-4d37-9359-5777084f...  2019-02-07  IT   \n",
       "1    _EG.EGM.NUTS3:e0d27089-03c2-4c41-8ce1-daf8ee28...  2019-02-07  IT   \n",
       "2    _EG.EGM.NUTS3:38b58736-ee49-4357-a2c6-2812a7ec...  2019-02-07  IT   \n",
       "3    _EG.EGM.NUTS3:a2b24ea9-5686-436e-9444-8306b217...  2019-02-07  IT   \n",
       "4    _EG.EGM.NUTS3:fc3f1bd2-1cf1-4b37-8318-c53cee09...  2019-02-07  IT   \n",
       "..                                                 ...         ...  ..   \n",
       "161  _EG.EGM.NUTS3:5a0a269f-ee37-41bf-b017-05b2c7e6...  2019-02-07  IT   \n",
       "162  _EG.EGM.NUTS3:4c861902-ae75-47db-8ac0-ec4e4a7e...  2019-02-07  IT   \n",
       "163  _EG.EGM.NUTS3:9a6beda6-a32c-4fc7-93d9-ed4e261a...  2019-02-07  IT   \n",
       "164  _EG.EGM.NUTS3:6352ebe4-13cc-43ed-bbc4-112edbf5...  2019-02-07  IT   \n",
       "165  _EG.EGM.NUTS3:9fc61b5a-5350-472f-8b47-319db34e...  2019-02-07  IT   \n",
       "\n",
       "    NUTS_CODE            NUTS_LABEL  TAA  Shape_Leng  Shape_Area  \\\n",
       "0       ITI16               Livorno    2    0.127188    0.001205   \n",
       "1       ITG13               Messina    2    4.391351    0.320924   \n",
       "2       ITG19              Siracusa    2    3.764754    0.213670   \n",
       "3       ITG12               Palermo    2    0.099764    0.000523   \n",
       "4       ITG14             Agrigento    2    4.631894    0.307148   \n",
       "..        ...                   ...  ...         ...         ...   \n",
       "161     ITH41             Pordenone    2    3.122070    0.264557   \n",
       "162     ITC14  Verbano-Cusio-Ossola    2    3.286720    0.263018   \n",
       "163     ITH20                Trento    2    6.830553    0.720968   \n",
       "164     ITH33               Belluno    2    4.807178    0.428822   \n",
       "165     ITH10         Bolzano-Bozen    2    7.073942    0.869845   \n",
       "\n",
       "                                              geometry  \n",
       "0    POLYGON ((10.31323 42.35093, 10.31426 42.35072...  \n",
       "1    POLYGON ((15.54770 38.30078, 15.55342 38.29912...  \n",
       "2    POLYGON ((14.92275 37.41228, 14.94277 37.40493...  \n",
       "3    POLYGON ((13.18325 37.63532, 13.15886 37.62598...  \n",
       "4    POLYGON ((13.01888 37.74009, 13.01975 37.74233...  \n",
       "..                                                 ...  \n",
       "161  POLYGON ((12.50321 46.40480, 12.51954 46.39812...  \n",
       "162  POLYGON ((8.44572 46.46372, 8.45001 46.46184, ...  \n",
       "163  POLYGON ((11.82553 46.52180, 11.82476 46.51387...  \n",
       "164  POLYGON ((12.47990 46.67725, 12.48127 46.67701...  \n",
       "165  POLYGON ((12.19148 47.09050, 12.19667 47.08845...  \n",
       "\n",
       "[166 rows x 9 columns]"
      ]
     },
     "execution_count": 32,
     "metadata": {},
     "output_type": "execute_result"
    }
   ],
   "source": [
    "tessellation"
   ]
  },
  {
   "cell_type": "code",
   "execution_count": 34,
   "metadata": {},
   "outputs": [],
   "source": [
    "# create a FlowDataFrame from a file and a tessellation\n",
    "fdf = skmob.FlowDataFrame.from_file(\n",
    "    \"data/NUTS3_flows.csv\",\n",
    "    tessellation=tessellation, tile_id='NUTS_LABEL', sep=\",\")"
   ]
  },
  {
   "cell_type": "code",
   "execution_count": 35,
   "metadata": {},
   "outputs": [
    {
     "data": {
      "text/html": [
       "<div>\n",
       "<style scoped>\n",
       "    .dataframe tbody tr th:only-of-type {\n",
       "        vertical-align: middle;\n",
       "    }\n",
       "\n",
       "    .dataframe tbody tr th {\n",
       "        vertical-align: top;\n",
       "    }\n",
       "\n",
       "    .dataframe thead th {\n",
       "        text-align: right;\n",
       "    }\n",
       "</style>\n",
       "<table border=\"1\" class=\"dataframe\">\n",
       "  <thead>\n",
       "    <tr style=\"text-align: right;\">\n",
       "      <th></th>\n",
       "      <th>flow</th>\n",
       "      <th>origin</th>\n",
       "      <th>destination</th>\n",
       "    </tr>\n",
       "  </thead>\n",
       "  <tbody>\n",
       "    <tr>\n",
       "      <th>0</th>\n",
       "      <td>10000</td>\n",
       "      <td>Torino</td>\n",
       "      <td>Milano</td>\n",
       "    </tr>\n",
       "    <tr>\n",
       "      <th>1</th>\n",
       "      <td>1000</td>\n",
       "      <td>Torino</td>\n",
       "      <td>Roma</td>\n",
       "    </tr>\n",
       "    <tr>\n",
       "      <th>2</th>\n",
       "      <td>1000</td>\n",
       "      <td>Torino</td>\n",
       "      <td>Genova</td>\n",
       "    </tr>\n",
       "  </tbody>\n",
       "</table>\n",
       "</div>"
      ],
      "text/plain": [
       "    flow  origin destination\n",
       "0  10000  Torino      Milano\n",
       "1   1000  Torino        Roma\n",
       "2   1000  Torino      Genova"
      ]
     },
     "execution_count": 35,
     "metadata": {},
     "output_type": "execute_result"
    }
   ],
   "source": [
    "fdf.head()"
   ]
  },
  {
   "cell_type": "code",
   "execution_count": 36,
   "metadata": {},
   "outputs": [
    {
     "data": {
      "text/html": [
       "<div>\n",
       "<style scoped>\n",
       "    .dataframe tbody tr th:only-of-type {\n",
       "        vertical-align: middle;\n",
       "    }\n",
       "\n",
       "    .dataframe tbody tr th {\n",
       "        vertical-align: top;\n",
       "    }\n",
       "\n",
       "    .dataframe thead th {\n",
       "        text-align: right;\n",
       "    }\n",
       "</style>\n",
       "<table border=\"1\" class=\"dataframe\">\n",
       "  <thead>\n",
       "    <tr style=\"text-align: right;\">\n",
       "      <th></th>\n",
       "      <th>inspireId</th>\n",
       "      <th>beginLifes</th>\n",
       "      <th>ICC</th>\n",
       "      <th>NUTS_CODE</th>\n",
       "      <th>tile_ID</th>\n",
       "      <th>TAA</th>\n",
       "      <th>Shape_Leng</th>\n",
       "      <th>Shape_Area</th>\n",
       "      <th>geometry</th>\n",
       "    </tr>\n",
       "  </thead>\n",
       "  <tbody>\n",
       "    <tr>\n",
       "      <th>0</th>\n",
       "      <td>_EG.EGM.NUTS3:4ae95bfc-24fc-4d37-9359-5777084f...</td>\n",
       "      <td>2019-02-07</td>\n",
       "      <td>IT</td>\n",
       "      <td>ITI16</td>\n",
       "      <td>Livorno</td>\n",
       "      <td>2</td>\n",
       "      <td>0.127188</td>\n",
       "      <td>0.001205</td>\n",
       "      <td>POLYGON ((10.31323 42.35093, 10.31426 42.35072...</td>\n",
       "    </tr>\n",
       "    <tr>\n",
       "      <th>1</th>\n",
       "      <td>_EG.EGM.NUTS3:e0d27089-03c2-4c41-8ce1-daf8ee28...</td>\n",
       "      <td>2019-02-07</td>\n",
       "      <td>IT</td>\n",
       "      <td>ITG13</td>\n",
       "      <td>Messina</td>\n",
       "      <td>2</td>\n",
       "      <td>4.391351</td>\n",
       "      <td>0.320924</td>\n",
       "      <td>POLYGON ((15.54770 38.30078, 15.55342 38.29912...</td>\n",
       "    </tr>\n",
       "    <tr>\n",
       "      <th>2</th>\n",
       "      <td>_EG.EGM.NUTS3:38b58736-ee49-4357-a2c6-2812a7ec...</td>\n",
       "      <td>2019-02-07</td>\n",
       "      <td>IT</td>\n",
       "      <td>ITG19</td>\n",
       "      <td>Siracusa</td>\n",
       "      <td>2</td>\n",
       "      <td>3.764754</td>\n",
       "      <td>0.213670</td>\n",
       "      <td>POLYGON ((14.92275 37.41228, 14.94277 37.40493...</td>\n",
       "    </tr>\n",
       "    <tr>\n",
       "      <th>3</th>\n",
       "      <td>_EG.EGM.NUTS3:a2b24ea9-5686-436e-9444-8306b217...</td>\n",
       "      <td>2019-02-07</td>\n",
       "      <td>IT</td>\n",
       "      <td>ITG12</td>\n",
       "      <td>Palermo</td>\n",
       "      <td>2</td>\n",
       "      <td>0.099764</td>\n",
       "      <td>0.000523</td>\n",
       "      <td>POLYGON ((13.18325 37.63532, 13.15886 37.62598...</td>\n",
       "    </tr>\n",
       "    <tr>\n",
       "      <th>4</th>\n",
       "      <td>_EG.EGM.NUTS3:fc3f1bd2-1cf1-4b37-8318-c53cee09...</td>\n",
       "      <td>2019-02-07</td>\n",
       "      <td>IT</td>\n",
       "      <td>ITG14</td>\n",
       "      <td>Agrigento</td>\n",
       "      <td>2</td>\n",
       "      <td>4.631894</td>\n",
       "      <td>0.307148</td>\n",
       "      <td>POLYGON ((13.01888 37.74009, 13.01975 37.74233...</td>\n",
       "    </tr>\n",
       "  </tbody>\n",
       "</table>\n",
       "</div>"
      ],
      "text/plain": [
       "                                           inspireId  beginLifes ICC  \\\n",
       "0  _EG.EGM.NUTS3:4ae95bfc-24fc-4d37-9359-5777084f...  2019-02-07  IT   \n",
       "1  _EG.EGM.NUTS3:e0d27089-03c2-4c41-8ce1-daf8ee28...  2019-02-07  IT   \n",
       "2  _EG.EGM.NUTS3:38b58736-ee49-4357-a2c6-2812a7ec...  2019-02-07  IT   \n",
       "3  _EG.EGM.NUTS3:a2b24ea9-5686-436e-9444-8306b217...  2019-02-07  IT   \n",
       "4  _EG.EGM.NUTS3:fc3f1bd2-1cf1-4b37-8318-c53cee09...  2019-02-07  IT   \n",
       "\n",
       "  NUTS_CODE    tile_ID  TAA  Shape_Leng  Shape_Area  \\\n",
       "0     ITI16    Livorno    2    0.127188    0.001205   \n",
       "1     ITG13    Messina    2    4.391351    0.320924   \n",
       "2     ITG19   Siracusa    2    3.764754    0.213670   \n",
       "3     ITG12    Palermo    2    0.099764    0.000523   \n",
       "4     ITG14  Agrigento    2    4.631894    0.307148   \n",
       "\n",
       "                                            geometry  \n",
       "0  POLYGON ((10.31323 42.35093, 10.31426 42.35072...  \n",
       "1  POLYGON ((15.54770 38.30078, 15.55342 38.29912...  \n",
       "2  POLYGON ((14.92275 37.41228, 14.94277 37.40493...  \n",
       "3  POLYGON ((13.18325 37.63532, 13.15886 37.62598...  \n",
       "4  POLYGON ((13.01888 37.74009, 13.01975 37.74233...  "
      ]
     },
     "execution_count": 36,
     "metadata": {},
     "output_type": "execute_result"
    }
   ],
   "source": [
    "# The tessellation is an attribute of the FlowDataFrame\n",
    "fdf.tessellation.head() "
   ]
  },
  {
   "cell_type": "code",
   "execution_count": 1,
   "metadata": {},
   "outputs": [
    {
     "ename": "NameError",
     "evalue": "name 'fdf' is not defined",
     "output_type": "error",
     "traceback": [
      "\u001b[0;31m---------------------------------------------------------------------------\u001b[0m",
      "\u001b[0;31mNameError\u001b[0m                                 Traceback (most recent call last)",
      "\u001b[0;32m<ipython-input-1-748756187396>\u001b[0m in \u001b[0;36m<module>\u001b[0;34m\u001b[0m\n\u001b[0;32m----> 1\u001b[0;31m \u001b[0mfdf\u001b[0m\u001b[0;34m.\u001b[0m\u001b[0mplot_tessellation\u001b[0m\u001b[0;34m(\u001b[0m\u001b[0mpopup_features\u001b[0m\u001b[0;34m=\u001b[0m\u001b[0;34m[\u001b[0m\u001b[0;34m'tile_ID'\u001b[0m\u001b[0;34m]\u001b[0m\u001b[0;34m)\u001b[0m\u001b[0;34m\u001b[0m\u001b[0m\n\u001b[0m",
      "\u001b[0;31mNameError\u001b[0m: name 'fdf' is not defined"
     ]
    }
   ],
   "source": [
    "fdf.plot_tessellation(popup_features=['tile_ID']) "
   ]
  },
  {
   "cell_type": "code",
   "execution_count": null,
   "metadata": {},
   "outputs": [],
   "source": []
  }
 ],
 "metadata": {
  "kernelspec": {
   "display_name": "skmob",
   "language": "python",
   "name": "skmob"
  },
  "language_info": {
   "codemirror_mode": {
    "name": "ipython",
    "version": 3
   },
   "file_extension": ".py",
   "mimetype": "text/x-python",
   "name": "python",
   "nbconvert_exporter": "python",
   "pygments_lexer": "ipython3",
   "version": "3.7.0"
  }
 },
 "nbformat": 4,
 "nbformat_minor": 4
}
