{
 "cells": [
  {
   "cell_type": "markdown",
   "metadata": {
    "extensions": {
     "jupyter_dashboards": {
      "version": 1,
      "views": {
       "grid_default": {},
       "report_default": {
        "hidden": false
       }
      }
     }
    }
   },
   "source": [
    "# Visualize your mobility with Google Maps Timeline\n",
    "You can view and manage your Location History information through <a href=\"https://www.google.com/maps/timeline\">Google Maps Timeline</a>, which is available to both mobile and desktop users. <u>Your Timeline is private, so only you can see it</u>. Please download your Timeline data following the instructions a this <a href=\"https://support.google.com/accounts/answer/3024190\">link</a>. \n",
    "\n",
    "If you have other settings like Web & App Activity turned on and you pause Location History or delete location data from Location History, you may still have location data saved in your Google Account as part of your use of other Google sites, apps, and services. For example, location data may be saved as part of activity on Search and Google Maps when your Web & App Activity setting is on, and included in your photos, depending on your camera app settings.\n",
    "\n",
    "Note: if your notebook does not visualize widgets, you find possible solutions at this <a href=\"https://stackoverflow.com/questions/36351109/ipython-notebook-ipywidgets-does-not-show\">link</a>."
   ]
  },
  {
   "cell_type": "code",
   "execution_count": 1,
   "metadata": {
    "extensions": {
     "jupyter_dashboards": {
      "version": 1,
      "views": {
       "grid_default": {},
       "report_default": {
        "hidden": true
       }
      }
     }
    }
   },
   "outputs": [],
   "source": [
    "%matplotlib inline\n",
    "import matplotlib.pyplot as plt\n",
    "import skmob\n",
    "from skmob.utils.plot import plot_gdf\n",
    "from skmob.tessellation import tilers\n",
    "import folium\n",
    "from folium.plugins import DualMap\n",
    "from folium.map import Marker\n",
    "from folium import LayerControl\n",
    "import numpy as np\n",
    "from skmob.io.file import load_google_timeline\n",
    "from skmob.preprocessing import detection, clustering\n",
    "import pandas as pd\n",
    "from IPython.display import display\n",
    "import ipywidgets as widgets\n",
    "from datetime import datetime\n",
    "from IPython.display import clear_output\n",
    "from skmob.measures.individual import radius_of_gyration, maximum_distance, uncorrelated_entropy\n",
    "from skmob.measures.individual import number_of_locations, waiting_times, real_entropy\n",
    "from skmob.measures.individual import waiting_times, max_distance_from_home\n",
    "from skmob.measures.collective import visits_per_time_unit\n",
    "import warnings\n",
    "warnings.filterwarnings('ignore')"
   ]
  },
  {
   "cell_type": "code",
   "execution_count": 2,
   "metadata": {
    "code_folding": [],
    "extensions": {
     "jupyter_dashboards": {
      "version": 1,
      "views": {
       "grid_default": {},
       "report_default": {
        "hidden": false
       }
      }
     }
    }
   },
   "outputs": [],
   "source": [
    "filename = widgets.Text(\n",
    "    value='Cronologia delle posizioni.json',\n",
    "    placeholder='Type something',\n",
    "    description='filename:',\n",
    "    disabled=False,\n",
    "    continuous_update=False,\n",
    ")\n",
    "\n",
    "region_text = widgets.Text(\n",
    "    value='Tuscany, Italy',\n",
    "    placeholder='Type something',\n",
    "    description='Region:',\n",
    "    disabled=False,\n",
    "    continuous_update=False,\n",
    ")\n",
    "\n",
    "meters_slider = widgets.IntSlider(\n",
    "    value=500,\n",
    "    min=100,\n",
    "    max=10000,\n",
    "    step=100,\n",
    "    description='Cell size (m):',\n",
    "    disabled=False,\n",
    "    continuous_update=False,\n",
    "    orientation='horizontal',\n",
    "    readout=True,\n",
    "    readout_format='d',\n",
    "    #layout={'width': '600px'},\n",
    ")\n",
    "\n",
    "\n",
    "checkbox1 = widgets.Checkbox(\n",
    "    value=True,\n",
    "    description='All trips',\n",
    "    disabled=False,\n",
    "    indent=False\n",
    ")\n",
    "\n",
    "checkbox2 = widgets.Checkbox(\n",
    "    value=False,\n",
    "    description='Trips in region',\n",
    "    disabled=False,\n",
    "    indent=False\n",
    ")\n",
    "\n",
    "button = widgets.Button(description=\"OK\")\n",
    "\n",
    "first_start, first_end = datetime(2019, 3, 1), datetime(2019, 4, 14)\n",
    "second_start, second_end = datetime(2020, 3, 1), datetime(2019, 4, 14)\n",
    "def load_trajs():\n",
    "    \n",
    "    tdf = load_google_timeline('data/' + filename.value).drop(['activity', 'altitude', 'heading', \n",
    "                                                                               'velocity', 'verticalAccuracy'], \n",
    "                                                                       axis=1).sort_values(by='datetime').drop('accuracy', axis=1)\n",
    "    tdf['uid'] = 1\n",
    "    \n",
    "    # TrajDataFrame of first period\n",
    "    tdf1 = tdf[(tdf.datetime > first_start) & (tdf.datetime < first_end)]\n",
    "    # TrajDataFrame of second period\n",
    "    tdf2 = tdf[(tdf.datetime > second_start)]\n",
    "    if checkbox1.value:\n",
    "        map_f = folium.plugins.DualMap(location=(tdf2.lat.mean(), tdf2.lng.mean()), \n",
    "                                       tiles='cartodbpositron', zoom_start=6)\n",
    "        m1, m2 = map_f.m1, map_f.m2\n",
    "        \n",
    "        tdf1.plot_trajectory(map_f=m1, start_end_markers=False, hex_color='red', \n",
    "                    tiles='openstreetmap')\n",
    "        tdf2.plot_trajectory(map_f=m2, start_end_markers=False, \n",
    "                                     hex_color='blue')\n",
    "        \n",
    "        display(map_f)\n",
    "    \n",
    "    region = region_text.value\n",
    "    meters = 5000 #int(meters_slider.value)\n",
    "    tessellation = tilers.tiler.get(\"squared\", base_shape=region, meters=meters)\n",
    "    \n",
    "    # For the first TrajDataFrame\n",
    "    ftdf1 = skmob.preprocessing.filtering.filter(tdf1)\n",
    "    stdf1 = detection.stops(ftdf1, minutes_for_a_stop=10)\n",
    "    mapped_stdf1 = stdf1.mapping(tessellation, remove_na=True)\n",
    "    ctdf1 = clustering.cluster(mapped_stdf1, cluster_radius_km=0.1)\n",
    "    distinct_locs1 = ctdf1.drop_duplicates(subset='cluster')\n",
    "    \n",
    "    # For the second TrajDataFrame\n",
    "    ftdf2 = skmob.preprocessing.filtering.filter(tdf2)\n",
    "    stdf2 = detection.stops(ftdf2, minutes_for_a_stop=10)\n",
    "    mapped_stdf2 = stdf2.mapping(tessellation, remove_na=True)\n",
    "    ctdf2 = clustering.cluster(mapped_stdf2, cluster_radius_km=0.1)\n",
    "    distinct_locs2 = ctdf2.drop_duplicates(subset='cluster')\n",
    "    \n",
    "    if checkbox2.value:\n",
    "        \n",
    "        map_f = folium.plugins.DualMap(location=(mapped_stdf1.lat.mean(), mapped_stdf1.lng.mean()), \n",
    "                                       tiles='cartodbpositron', zoom_start=12)\n",
    "        m1 = map_f.m1\n",
    "        m2 = map_f.m2\n",
    "        \n",
    "        m1 = ctdf1.plot_trajectory(map_f=m1, start_end_markers=False, hex_color='red', \n",
    "                               opacity=0.5, weight=1)\n",
    "        m1 = distinct_locs1.plot_stops(map_f=m1, radius=8)\n",
    "        \n",
    "        m2 = ctdf2.plot_trajectory(map_f=m2, start_end_markers=False, hex_color='blue', \n",
    "                                       opacity=0.5, weight=1)\n",
    "        m2 = distinct_locs2.plot_stops(map_f=m2, radius=8)\n",
    "    \n",
    "        display(map_f)\n",
    "\n",
    "    fig, ax = plt.subplots(1, 3, figsize=(15, 6))\n",
    "        \n",
    "    nlocs1 = number_of_locations(mapped_stdf1, show_progress=False, ).iloc[0][1]\n",
    "    nlocs2 = number_of_locations(mapped_stdf2, show_progress=False, ).iloc[0][1]\n",
    "    ax[0].bar([1], [len(ctdf1.cluster.unique())], color='red', alpha=0.75)\n",
    "    ax[0].bar([2], [len(ctdf2.cluster.unique())], color='blue', alpha=0.75)\n",
    "    ax[0].set_ylabel('locations visited', fontsize=15)\n",
    "    ax[0].set_xticks([1, 2])\n",
    "    ax[0].set_xticklabels(['2019', '2020'], rotation=45, fontsize=15) \n",
    "    ax[0].grid(alpha=0.2)\n",
    "    \n",
    "    rg1 = radius_of_gyration(tdf1, show_progress=False).iloc[0][1]\n",
    "    rg2 = radius_of_gyration(tdf2, show_progress=False).iloc[0][1]\n",
    "    ax[1].bar([1], [rg1], color='red', alpha=0.75)\n",
    "    ax[1].bar([2], [rg2], color='blue', alpha=0.75)\n",
    "    ax[1].set_ylabel('mobility volume [km]', fontsize=15)\n",
    "    ax[1].set_xticks([1, 2])\n",
    "    ax[1].set_xticklabels(['2019', '2020'], rotation=45, fontsize=15)\n",
    "    ax[1].grid(alpha=0.2)\n",
    "    \n",
    "    max_d1 = maximum_distance(ftdf1, show_progress=False).iloc[0][1]\n",
    "    max_d2 = maximum_distance(ftdf2, show_progress=False).iloc[0][1]\n",
    "    ax[2].bar([1], [max_d1], color='red', alpha=0.75)\n",
    "    ax[2].bar([2], [max_d2], color='blue', alpha=0.75)\n",
    "    ax[2].set_ylabel('maximum distance', fontsize=15)\n",
    "    ax[2].set_xticks([1, 2])\n",
    "    ax[2].set_xticklabels(['2019', '2020'], rotation=45, fontsize=15)\n",
    "    ax[2].grid(alpha=0.2)\n",
    "    \n",
    "    plt.subplots_adjust(wspace=0.4)\n",
    "    plt.show()\n",
    "\n",
    "def on_button_clicked(b):\n",
    "    clear_output(wait=True)\n",
    "    display(vbox) \n",
    "    load_trajs()\n",
    "    \n",
    "button.on_click(on_button_clicked)\n",
    "\n",
    "vbox = widgets.VBox([filename, region_text, \n",
    "                     checkbox1, checkbox2, button])"
   ]
  },
  {
   "cell_type": "code",
   "execution_count": 3,
   "metadata": {
    "extensions": {
     "jupyter_dashboards": {
      "version": 1,
      "views": {
       "grid_default": {},
       "report_default": {
        "hidden": false
       }
      }
     }
    },
    "scrolled": false
   },
   "outputs": [
    {
     "data": {
      "application/vnd.jupyter.widget-view+json": {
       "model_id": "4546b92aab024f9ca6c7ac223a5b2f6a",
       "version_major": 2,
       "version_minor": 0
      },
      "text/plain": [
       "VBox(children=(Text(value='Cronologia delle posizioni.json', continuous_update=False, description='filename:',…"
      ]
     },
     "metadata": {},
     "output_type": "display_data"
    }
   ],
   "source": [
    "display(vbox)"
   ]
  },
  {
   "cell_type": "code",
   "execution_count": null,
   "metadata": {},
   "outputs": [],
   "source": []
  }
 ],
 "metadata": {
  "extensions": {
   "jupyter_dashboards": {
    "activeView": "report_default",
    "version": 1,
    "views": {
     "grid_default": {
      "cellMargin": 10,
      "defaultCellHeight": 20,
      "maxColumns": 12,
      "name": "grid",
      "type": "grid"
     },
     "report_default": {
      "name": "report",
      "type": "report"
     }
    }
   }
  },
  "hide_input": false,
  "kernelspec": {
   "display_name": "Python [conda env:skmobenv]",
   "language": "python",
   "name": "skmobenv"
  },
  "language_info": {
   "codemirror_mode": {
    "name": "ipython",
    "version": 3
   },
   "file_extension": ".py",
   "mimetype": "text/x-python",
   "name": "python",
   "nbconvert_exporter": "python",
   "pygments_lexer": "ipython3",
   "version": "3.7.6"
  },
  "latex_envs": {
   "LaTeX_envs_menu_present": true,
   "autoclose": false,
   "autocomplete": true,
   "bibliofile": "biblio.bib",
   "cite_by": "apalike",
   "current_citInitial": 1,
   "eqLabelWithNumbers": true,
   "eqNumInitial": 1,
   "hotkeys": {
    "equation": "Ctrl-E",
    "itemize": "Ctrl-I"
   },
   "labels_anchors": false,
   "latex_user_defs": false,
   "report_style_numbering": true,
   "user_envs_cfg": false
  }
 },
 "nbformat": 4,
 "nbformat_minor": 2
}
