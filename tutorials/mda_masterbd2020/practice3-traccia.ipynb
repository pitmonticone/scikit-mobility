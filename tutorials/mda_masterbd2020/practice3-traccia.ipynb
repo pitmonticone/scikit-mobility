{
 "cells": [
  {
   "cell_type": "markdown",
   "metadata": {},
   "source": [
    "# Practice 3"
   ]
  },
  {
   "cell_type": "markdown",
   "metadata": {},
   "source": [
    "## Exercise 1): taxis in Porto"
   ]
  },
  {
   "cell_type": "markdown",
   "metadata": {},
   "source": [
    "### 1.A Download the <a href=\"https://archive.ics.uci.edu/ml/datasets/Taxi+Service+Trajectory+-+Prediction+Challenge,+ECML+PKDD+2015\">Porto taxi dataset</a> (file `train.csv.zip`) and load the first 20000 trajectories into a `TrajDataFrame`."
   ]
  },
  {
   "cell_type": "markdown",
   "metadata": {},
   "source": [
    "### 1.B Get a square tessellation of Porto (`meters=500`), then plot the tessellation and the trajectories.\n",
    "- **Note**: there is no available `base_shape` for the city of Porto.\n",
    "- **Suggestion**: download the grid of a wider region (e.g., \"Porto, Tâmega e Sousa, Nord, Portogallo\") and select cells within a bounding box of the city.\n",
    "- To select a bounding box you can use OpenStreetMap (https://www.openstreetmap.org/#map=10/41.0612/-8.5089)"
   ]
  },
  {
   "cell_type": "markdown",
   "metadata": {},
   "source": [
    "### 1.C Find the two taxis with the lowest ($u_{lowest}$) and the highest ($u_{highest}$) distance straight line. Then, visualize them on the same map and in blue and red, respectively."
   ]
  },
  {
   "cell_type": "markdown",
   "metadata": {},
   "source": [
    "### 1.D Compare on a Dual Map the longest and the second longest trips of $u_{highest}$. \n",
    "**Note**: column `tid` identifies a trip"
   ]
  },
  {
   "cell_type": "markdown",
   "metadata": {},
   "source": [
    "### 1.E For $u_{highest}$, select just the points within the tessellation. Then, compute the absolute difference between the new distance straight line and the distance straight line of its complete trajectory."
   ]
  },
  {
   "cell_type": "markdown",
   "metadata": {},
   "source": [
    "## Exercise 2): GeoLife"
   ]
  },
  {
   "cell_type": "markdown",
   "metadata": {},
   "source": [
    "### 2.A Load the GeoLife trajectories of the following three users: `['010', '055', '087']`. Then, plot them."
   ]
  },
  {
   "cell_type": "markdown",
   "metadata": {},
   "source": [
    "### 2.B Compute the radius of gyration of the three users"
   ]
  },
  {
   "cell_type": "markdown",
   "metadata": {},
   "source": [
    "### 2.C Filter and compress the trajectory of user `055` using default parameters. How many points do we lose after compression?"
   ]
  },
  {
   "cell_type": "markdown",
   "metadata": {},
   "source": [
    "### 2.D Find stops for user `055` starting from the filterend and compressed trajectory. Then, plot the trajectory and the stops of `055` on a map."
   ]
  },
  {
   "cell_type": "markdown",
   "metadata": {},
   "source": [
    "### 2.E Compare two different clusterings in a Dual Map. In the first (on the left) use `radius_km=0.5` in the other on the rigth use `radius_km=10`"
   ]
  },
  {
   "cell_type": "markdown",
   "metadata": {},
   "source": [
    "### 2.F Create a histogram of the frequency of the clusters"
   ]
  },
  {
   "cell_type": "markdown",
   "metadata": {},
   "source": [
    "### 2.G What is the minimum value of `radius_km` such that we have exactly two clusters? Visualize the trajectory and the clustering obtained."
   ]
  },
  {
   "cell_type": "markdown",
   "metadata": {},
   "source": [
    "### 2.H Plot the value of `radius_km` versus the number of clusters, vary `radius_km` from `100m` to first value of `radius_km` such that we obtain just one cluster."
   ]
  },
  {
   "cell_type": "code",
   "execution_count": null,
   "metadata": {},
   "outputs": [],
   "source": []
  }
 ],
 "metadata": {
  "kernelspec": {
   "display_name": "Python [conda env:skmobenv]",
   "language": "python",
   "name": "skmobenv"
  },
  "language_info": {
   "codemirror_mode": {
    "name": "ipython",
    "version": 3
   },
   "file_extension": ".py",
   "mimetype": "text/x-python",
   "name": "python",
   "nbconvert_exporter": "python",
   "pygments_lexer": "ipython3",
   "version": "3.7.6"
  }
 },
 "nbformat": 4,
 "nbformat_minor": 4
}
